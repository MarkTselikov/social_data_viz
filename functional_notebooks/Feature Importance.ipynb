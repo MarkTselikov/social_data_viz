{
 "cells": [
  {
   "cell_type": "code",
   "execution_count": 85,
   "id": "631d4491",
   "metadata": {},
   "outputs": [],
   "source": [
    "import numpy as np\n",
    "import pandas as pd \n",
    "import matplotlib.pyplot as plt\n",
    "import seaborn as sns\n",
    "\n",
    "%matplotlib inline"
   ]
  },
  {
   "cell_type": "code",
   "execution_count": 90,
   "id": "e03bb5f1",
   "metadata": {},
   "outputs": [
    {
     "data": {
      "text/html": [
       "<div>\n",
       "<style scoped>\n",
       "    .dataframe tbody tr th:only-of-type {\n",
       "        vertical-align: middle;\n",
       "    }\n",
       "\n",
       "    .dataframe tbody tr th {\n",
       "        vertical-align: top;\n",
       "    }\n",
       "\n",
       "    .dataframe thead th {\n",
       "        text-align: right;\n",
       "    }\n",
       "</style>\n",
       "<table border=\"1\" class=\"dataframe\">\n",
       "  <thead>\n",
       "    <tr style=\"text-align: right;\">\n",
       "      <th></th>\n",
       "      <th>Country Code</th>\n",
       "      <th>Happiness Rank</th>\n",
       "      <th>Happiness Score</th>\n",
       "      <th>Economy (GDP per Capita)</th>\n",
       "      <th>Health (Life Expectancy)</th>\n",
       "      <th>Freedom</th>\n",
       "      <th>Generosity</th>\n",
       "      <th>Perceptions of corruption</th>\n",
       "      <th>Year</th>\n",
       "      <th>Country_y</th>\n",
       "      <th>p50p90</th>\n",
       "      <th>p90p100</th>\n",
       "      <th>p99p100</th>\n",
       "      <th>pall</th>\n",
       "      <th>Country Name</th>\n",
       "      <th>Crime (Homicide) Score</th>\n",
       "      <th>Unemployment Score</th>\n",
       "      <th>suicide_per_pop</th>\n",
       "    </tr>\n",
       "  </thead>\n",
       "  <tbody>\n",
       "    <tr>\n",
       "      <th>0</th>\n",
       "      <td>AFG</td>\n",
       "      <td>149.857143</td>\n",
       "      <td>3.236286</td>\n",
       "      <td>1.397367</td>\n",
       "      <td>7.718934</td>\n",
       "      <td>0.138803</td>\n",
       "      <td>0.195950</td>\n",
       "      <td>0.173638</td>\n",
       "      <td>2017.0</td>\n",
       "      <td>Afghanistan</td>\n",
       "      <td>0.394250</td>\n",
       "      <td>0.427833</td>\n",
       "      <td>0.149317</td>\n",
       "      <td>3132.269508</td>\n",
       "      <td>Afghanistan</td>\n",
       "      <td>5.912825</td>\n",
       "      <td>8.627500</td>\n",
       "      <td>NaN</td>\n",
       "    </tr>\n",
       "    <tr>\n",
       "      <th>1</th>\n",
       "      <td>ALB</td>\n",
       "      <td>104.285714</td>\n",
       "      <td>4.794714</td>\n",
       "      <td>2.160023</td>\n",
       "      <td>10.540497</td>\n",
       "      <td>0.443784</td>\n",
       "      <td>0.140062</td>\n",
       "      <td>0.163143</td>\n",
       "      <td>2017.0</td>\n",
       "      <td>Albania</td>\n",
       "      <td>0.468567</td>\n",
       "      <td>0.339817</td>\n",
       "      <td>0.088800</td>\n",
       "      <td>11957.948217</td>\n",
       "      <td>Albania</td>\n",
       "      <td>4.067445</td>\n",
       "      <td>30.573077</td>\n",
       "      <td>NaN</td>\n",
       "    </tr>\n",
       "    <tr>\n",
       "      <th>2</th>\n",
       "      <td>DZA</td>\n",
       "      <td>77.142857</td>\n",
       "      <td>5.461429</td>\n",
       "      <td>2.192973</td>\n",
       "      <td>10.010755</td>\n",
       "      <td>0.208027</td>\n",
       "      <td>0.056871</td>\n",
       "      <td>0.230214</td>\n",
       "      <td>2017.0</td>\n",
       "      <td>Algeria</td>\n",
       "      <td>0.420100</td>\n",
       "      <td>0.380800</td>\n",
       "      <td>0.099100</td>\n",
       "      <td>16592.540783</td>\n",
       "      <td>Algeria</td>\n",
       "      <td>1.109717</td>\n",
       "      <td>27.987857</td>\n",
       "      <td>NaN</td>\n",
       "    </tr>\n",
       "    <tr>\n",
       "      <th>3</th>\n",
       "      <td>AGO</td>\n",
       "      <td>140.000000</td>\n",
       "      <td>3.872250</td>\n",
       "      <td>0.798380</td>\n",
       "      <td>0.133902</td>\n",
       "      <td>0.027433</td>\n",
       "      <td>0.105269</td>\n",
       "      <td>0.071570</td>\n",
       "      <td>2015.5</td>\n",
       "      <td>Angola</td>\n",
       "      <td>0.336633</td>\n",
       "      <td>0.565650</td>\n",
       "      <td>0.242033</td>\n",
       "      <td>10853.650233</td>\n",
       "      <td>Angola</td>\n",
       "      <td>4.601430</td>\n",
       "      <td>23.382000</td>\n",
       "      <td>NaN</td>\n",
       "    </tr>\n",
       "    <tr>\n",
       "      <th>4</th>\n",
       "      <td>ATG</td>\n",
       "      <td>NaN</td>\n",
       "      <td>NaN</td>\n",
       "      <td>NaN</td>\n",
       "      <td>NaN</td>\n",
       "      <td>NaN</td>\n",
       "      <td>NaN</td>\n",
       "      <td>NaN</td>\n",
       "      <td>NaN</td>\n",
       "      <td>Antigua and Barbuda</td>\n",
       "      <td>NaN</td>\n",
       "      <td>NaN</td>\n",
       "      <td>NaN</td>\n",
       "      <td>23588.936550</td>\n",
       "      <td>Antigua and Barbuda</td>\n",
       "      <td>10.465355</td>\n",
       "      <td>19.840000</td>\n",
       "      <td>0.005206</td>\n",
       "    </tr>\n",
       "  </tbody>\n",
       "</table>\n",
       "</div>"
      ],
      "text/plain": [
       "  Country Code  Happiness Rank  Happiness Score  Economy (GDP per Capita)  \\\n",
       "0          AFG      149.857143         3.236286                  1.397367   \n",
       "1          ALB      104.285714         4.794714                  2.160023   \n",
       "2          DZA       77.142857         5.461429                  2.192973   \n",
       "3          AGO      140.000000         3.872250                  0.798380   \n",
       "4          ATG             NaN              NaN                       NaN   \n",
       "\n",
       "   Health (Life Expectancy)   Freedom  Generosity  Perceptions of corruption  \\\n",
       "0                  7.718934  0.138803    0.195950                   0.173638   \n",
       "1                 10.540497  0.443784    0.140062                   0.163143   \n",
       "2                 10.010755  0.208027    0.056871                   0.230214   \n",
       "3                  0.133902  0.027433    0.105269                   0.071570   \n",
       "4                       NaN       NaN         NaN                        NaN   \n",
       "\n",
       "     Year            Country_y    p50p90   p90p100   p99p100          pall  \\\n",
       "0  2017.0          Afghanistan  0.394250  0.427833  0.149317   3132.269508   \n",
       "1  2017.0              Albania  0.468567  0.339817  0.088800  11957.948217   \n",
       "2  2017.0              Algeria  0.420100  0.380800  0.099100  16592.540783   \n",
       "3  2015.5               Angola  0.336633  0.565650  0.242033  10853.650233   \n",
       "4     NaN  Antigua and Barbuda       NaN       NaN       NaN  23588.936550   \n",
       "\n",
       "          Country Name  Crime (Homicide) Score  Unemployment Score  \\\n",
       "0          Afghanistan                5.912825            8.627500   \n",
       "1              Albania                4.067445           30.573077   \n",
       "2              Algeria                1.109717           27.987857   \n",
       "3               Angola                4.601430           23.382000   \n",
       "4  Antigua and Barbuda               10.465355           19.840000   \n",
       "\n",
       "   suicide_per_pop  \n",
       "0              NaN  \n",
       "1              NaN  \n",
       "2              NaN  \n",
       "3              NaN  \n",
       "4         0.005206  "
      ]
     },
     "execution_count": 90,
     "metadata": {},
     "output_type": "execute_result"
    }
   ],
   "source": [
    "data = pd.read_csv('data/processed/whr_combined.csv')\n",
    "data = data.drop(['Unnamed: 0'],axis =1)\n",
    "data.head()"
   ]
  },
  {
   "cell_type": "code",
   "execution_count": 91,
   "id": "8ccae5ee",
   "metadata": {},
   "outputs": [],
   "source": [
    "def get_cat_happiness(row):\n",
    "    if row <= 3.5:\n",
    "        return 0\n",
    "    elif row > 3.5 and row <= 5:\n",
    "        return 1\n",
    "    elif row > 5 and row <= 6.5:\n",
    "        return 2\n",
    "    else:\n",
    "        return 3"
   ]
  },
  {
   "cell_type": "code",
   "execution_count": 92,
   "id": "c9b78c0d",
   "metadata": {},
   "outputs": [],
   "source": [
    "from sklearn.model_selection import train_test_split\n",
    "from sklearn import preprocessing\n",
    "from sklearn import utils\n",
    "\n",
    "data.drop('Happiness Rank', axis=1, inplace=True)\n",
    "data.drop('Country Name', axis=1, inplace=True)\n",
    "data.drop('Country_y', axis=1, inplace=True)\n",
    "data.drop('Country Code', axis=1, inplace=True)\n",
    "data['Happiness'] = data['Happiness Score'].apply(get_cat_happiness)\n",
    "data.drop('Happiness Score', inplace=True, axis=1)\n",
    "\n",
    "data.dropna(inplace=True)\n",
    "\n",
    "X = data.drop('Happiness', axis=1)\n",
    "y = data['Happiness']\n",
    "\n",
    "lab_enc = preprocessing.LabelEncoder()\n",
    "y = lab_enc.fit_transform(y)\n",
    "\n",
    "X_train, X_test, y_train, y_test = train_test_split(X, y, test_size=0.33)"
   ]
  },
  {
   "cell_type": "code",
   "execution_count": 97,
   "id": "9fe65330",
   "metadata": {},
   "outputs": [
    {
     "data": {
      "text/plain": [
       "RandomForestClassifier(max_depth=10, min_samples_leaf=5, min_samples_split=5,\n",
       "                       n_estimators=10)"
      ]
     },
     "execution_count": 97,
     "metadata": {},
     "output_type": "execute_result"
    }
   ],
   "source": [
    "from sklearn.ensemble import RandomForestClassifier\n",
    "from sklearn.model_selection import GridSearchCV\n",
    "from sklearn.model_selection import KFold\n",
    "\n",
    "cv_kfold = KFold(n_splits=5)\n",
    "\n",
    "# parameter combinations that will be tested for a Random Forest model\n",
    "param_grid = {\n",
    "    'n_estimators': [5, 10, 25, 50, 100, 200],\n",
    "    'min_samples_leaf': [2, 5, 10],\n",
    "    'min_samples_split': [2, 5, 10],\n",
    "    'max_depth': [3, 5, 10, 20]\n",
    "}\n",
    "\n",
    "model = RandomForestClassifier()\n",
    "\n",
    "grid_cv = GridSearchCV(model, param_grid, scoring='accuracy', cv=cv_kfold)\n",
    "grid_cv.fit(X_train, y_train)\n",
    "grid_cv.best_estimator_"
   ]
  },
  {
   "cell_type": "code",
   "execution_count": 98,
   "id": "37ce7e4a",
   "metadata": {},
   "outputs": [
    {
     "name": "stdout",
     "output_type": "stream",
     "text": [
      "0.8418181818181818\n",
      "{'max_depth': 10, 'min_samples_leaf': 5, 'min_samples_split': 5, 'n_estimators': 10}\n"
     ]
    }
   ],
   "source": [
    "print(grid_cv.best_score_)\n",
    "print(grid_cv.best_params_)"
   ]
  },
  {
   "cell_type": "code",
   "execution_count": 99,
   "id": "c5fb332b",
   "metadata": {},
   "outputs": [
    {
     "name": "stdout",
     "output_type": "stream",
     "text": [
      "Accuracy on the training data: 0.8235294117647058\n",
      "Accuracy on the testing data: 0.6538461538461539\n"
     ]
    }
   ],
   "source": [
    "from sklearn.metrics import accuracy_score\n",
    "\n",
    "model = RandomForestClassifier(max_depth=10, min_samples_leaf=5, min_samples_split=5, n_estimators=10)\n",
    "model.fit(X_train, y_train)\n",
    "\n",
    "prediction = model.predict(X_test)\n",
    "print('Accuracy on the training data: {}'.format(accuracy_score(model.predict(X_train), y_train)))\n",
    "print('Accuracy on the testing data: {}'.format(accuracy_score(prediction, y_test)))"
   ]
  },
  {
   "cell_type": "code",
   "execution_count": 100,
   "id": "750eb98a",
   "metadata": {},
   "outputs": [
    {
     "name": "stderr",
     "output_type": "stream",
     "text": [
      "C:\\Users\\markt\\anaconda3\\lib\\site-packages\\seaborn\\categorical.py:3704: UserWarning: The `factorplot` function has been renamed to `catplot`. The original name will be removed in a future release. Please update your code. Note that the default `kind` in `factorplot` (`'point'`) has changed `'strip'` in `catplot`.\n",
      "  warnings.warn(msg)\n",
      "C:\\Users\\markt\\anaconda3\\lib\\site-packages\\seaborn\\categorical.py:3710: UserWarning: The `size` parameter has been renamed to `height`; please update your code.\n",
      "  warnings.warn(msg, UserWarning)\n",
      "C:\\Users\\markt\\anaconda3\\lib\\site-packages\\seaborn\\_decorators.py:36: FutureWarning: Pass the following variables as keyword args: x, y. From version 0.12, the only valid positional argument will be `data`, and passing other arguments without an explicit keyword will result in an error or misinterpretation.\n",
      "  warnings.warn(\n"
     ]
    },
    {
     "data": {
      "text/plain": [
       "<seaborn.axisgrid.FacetGrid at 0x1ad12d61460>"
      ]
     },
     "execution_count": 100,
     "metadata": {},
     "output_type": "execute_result"
    },
    {
     "data": {
      "image/png": "[encoded data removed]",
      "text/plain": [
       "<Figure size 432x432 with 1 Axes>"
      ]
     },
     "metadata": {
      "needs_background": "light"
     },
     "output_type": "display_data"
    }
   ],
   "source": [
    "feature_values = pd.DataFrame({\n",
    "    'Feature': X_train.columns,\n",
    "    'Importance': model.feature_importances_\n",
    "})\n",
    "feature_values = feature_values.sort_values('Importance', ascending=False)\n",
    "\n",
    "sns.factorplot('Importance', 'Feature', data=feature_values, size=6)"
   ]
  },
  {
   "cell_type": "markdown",
   "id": "edbc046a",
   "metadata": {},
   "source": [
    "# Prosperity stuff"
   ]
  },
  {
   "cell_type": "code",
   "execution_count": 112,
   "id": "62d1eff6",
   "metadata": {},
   "outputs": [
    {
     "data": {
      "text/html": [
       "<div>\n",
       "<style scoped>\n",
       "    .dataframe tbody tr th:only-of-type {\n",
       "        vertical-align: middle;\n",
       "    }\n",
       "\n",
       "    .dataframe tbody tr th {\n",
       "        vertical-align: top;\n",
       "    }\n",
       "\n",
       "    .dataframe thead th {\n",
       "        text-align: right;\n",
       "    }\n",
       "</style>\n",
       "<table border=\"1\" class=\"dataframe\">\n",
       "  <thead>\n",
       "    <tr style=\"text-align: right;\">\n",
       "      <th></th>\n",
       "      <th>Country Code</th>\n",
       "      <th>Score</th>\n",
       "      <th>Economic Quality</th>\n",
       "      <th>Education</th>\n",
       "      <th>Enterprise Conditions</th>\n",
       "      <th>Governance</th>\n",
       "      <th>Health</th>\n",
       "      <th>Investment Environment</th>\n",
       "      <th>Living Conditions</th>\n",
       "      <th>Market Access and Infrastructure</th>\n",
       "      <th>...</th>\n",
       "      <th>Social Capital</th>\n",
       "      <th>Country</th>\n",
       "      <th>p50p90</th>\n",
       "      <th>p90p100</th>\n",
       "      <th>p99p100</th>\n",
       "      <th>pall</th>\n",
       "      <th>Country Name</th>\n",
       "      <th>Crime (Homicide) Score</th>\n",
       "      <th>Unemployment Score</th>\n",
       "      <th>suicide_per_pop</th>\n",
       "    </tr>\n",
       "  </thead>\n",
       "  <tbody>\n",
       "    <tr>\n",
       "      <th>0</th>\n",
       "      <td>AFG</td>\n",
       "      <td>34.130492</td>\n",
       "      <td>33.978571</td>\n",
       "      <td>26.278571</td>\n",
       "      <td>43.478571</td>\n",
       "      <td>29.871429</td>\n",
       "      <td>46.407143</td>\n",
       "      <td>28.864286</td>\n",
       "      <td>34.700000</td>\n",
       "      <td>24.957143</td>\n",
       "      <td>...</td>\n",
       "      <td>33.785714</td>\n",
       "      <td>Afghanistan</td>\n",
       "      <td>0.394250</td>\n",
       "      <td>0.427833</td>\n",
       "      <td>0.149317</td>\n",
       "      <td>3132.269508</td>\n",
       "      <td>Afghanistan</td>\n",
       "      <td>5.912825</td>\n",
       "      <td>8.627500</td>\n",
       "      <td>NaN</td>\n",
       "    </tr>\n",
       "    <tr>\n",
       "      <th>1</th>\n",
       "      <td>ALB</td>\n",
       "      <td>57.300581</td>\n",
       "      <td>44.314286</td>\n",
       "      <td>66.442857</td>\n",
       "      <td>51.257143</td>\n",
       "      <td>48.914286</td>\n",
       "      <td>73.550000</td>\n",
       "      <td>51.657143</td>\n",
       "      <td>71.957143</td>\n",
       "      <td>51.171429</td>\n",
       "      <td>...</td>\n",
       "      <td>42.507143</td>\n",
       "      <td>Albania</td>\n",
       "      <td>0.468567</td>\n",
       "      <td>0.339817</td>\n",
       "      <td>0.088800</td>\n",
       "      <td>11957.948217</td>\n",
       "      <td>Albania</td>\n",
       "      <td>4.067445</td>\n",
       "      <td>30.573077</td>\n",
       "      <td>NaN</td>\n",
       "    </tr>\n",
       "    <tr>\n",
       "      <th>2</th>\n",
       "      <td>DZA</td>\n",
       "      <td>49.853382</td>\n",
       "      <td>41.378571</td>\n",
       "      <td>58.471429</td>\n",
       "      <td>37.957143</td>\n",
       "      <td>39.314286</td>\n",
       "      <td>73.214286</td>\n",
       "      <td>36.600000</td>\n",
       "      <td>76.235714</td>\n",
       "      <td>40.585714</td>\n",
       "      <td>...</td>\n",
       "      <td>45.678571</td>\n",
       "      <td>Algeria</td>\n",
       "      <td>0.420100</td>\n",
       "      <td>0.380800</td>\n",
       "      <td>0.099100</td>\n",
       "      <td>16592.540783</td>\n",
       "      <td>Algeria</td>\n",
       "      <td>1.109717</td>\n",
       "      <td>27.987857</td>\n",
       "      <td>NaN</td>\n",
       "    </tr>\n",
       "    <tr>\n",
       "      <th>3</th>\n",
       "      <td>AGO</td>\n",
       "      <td>37.751044</td>\n",
       "      <td>38.535714</td>\n",
       "      <td>25.942857</td>\n",
       "      <td>29.728571</td>\n",
       "      <td>31.392857</td>\n",
       "      <td>48.857143</td>\n",
       "      <td>26.142857</td>\n",
       "      <td>39.207143</td>\n",
       "      <td>26.078571</td>\n",
       "      <td>...</td>\n",
       "      <td>44.435714</td>\n",
       "      <td>Angola</td>\n",
       "      <td>0.336633</td>\n",
       "      <td>0.565650</td>\n",
       "      <td>0.242033</td>\n",
       "      <td>10853.650233</td>\n",
       "      <td>Angola</td>\n",
       "      <td>4.601430</td>\n",
       "      <td>23.382000</td>\n",
       "      <td>NaN</td>\n",
       "    </tr>\n",
       "    <tr>\n",
       "      <th>4</th>\n",
       "      <td>ATG</td>\n",
       "      <td>NaN</td>\n",
       "      <td>NaN</td>\n",
       "      <td>NaN</td>\n",
       "      <td>NaN</td>\n",
       "      <td>NaN</td>\n",
       "      <td>NaN</td>\n",
       "      <td>NaN</td>\n",
       "      <td>NaN</td>\n",
       "      <td>NaN</td>\n",
       "      <td>...</td>\n",
       "      <td>NaN</td>\n",
       "      <td>Antigua and Barbuda</td>\n",
       "      <td>NaN</td>\n",
       "      <td>NaN</td>\n",
       "      <td>NaN</td>\n",
       "      <td>23588.936550</td>\n",
       "      <td>Antigua and Barbuda</td>\n",
       "      <td>10.465355</td>\n",
       "      <td>19.840000</td>\n",
       "      <td>0.005206</td>\n",
       "    </tr>\n",
       "  </tbody>\n",
       "</table>\n",
       "<p>5 rows × 23 columns</p>\n",
       "</div>"
      ],
      "text/plain": [
       "  Country Code      Score  Economic Quality  Education  Enterprise Conditions  \\\n",
       "0          AFG  34.130492         33.978571  26.278571              43.478571   \n",
       "1          ALB  57.300581         44.314286  66.442857              51.257143   \n",
       "2          DZA  49.853382         41.378571  58.471429              37.957143   \n",
       "3          AGO  37.751044         38.535714  25.942857              29.728571   \n",
       "4          ATG        NaN               NaN        NaN                    NaN   \n",
       "\n",
       "   Governance     Health  Investment Environment  Living Conditions  \\\n",
       "0   29.871429  46.407143               28.864286          34.700000   \n",
       "1   48.914286  73.550000               51.657143          71.957143   \n",
       "2   39.314286  73.214286               36.600000          76.235714   \n",
       "3   31.392857  48.857143               26.142857          39.207143   \n",
       "4         NaN        NaN                     NaN                NaN   \n",
       "\n",
       "   Market Access and Infrastructure  ...  Social Capital              Country  \\\n",
       "0                         24.957143  ...       33.785714          Afghanistan   \n",
       "1                         51.171429  ...       42.507143              Albania   \n",
       "2                         40.585714  ...       45.678571              Algeria   \n",
       "3                         26.078571  ...       44.435714               Angola   \n",
       "4                               NaN  ...             NaN  Antigua and Barbuda   \n",
       "\n",
       "     p50p90   p90p100   p99p100          pall         Country Name  \\\n",
       "0  0.394250  0.427833  0.149317   3132.269508          Afghanistan   \n",
       "1  0.468567  0.339817  0.088800  11957.948217              Albania   \n",
       "2  0.420100  0.380800  0.099100  16592.540783              Algeria   \n",
       "3  0.336633  0.565650  0.242033  10853.650233               Angola   \n",
       "4       NaN       NaN       NaN  23588.936550  Antigua and Barbuda   \n",
       "\n",
       "   Crime (Homicide) Score  Unemployment Score suicide_per_pop  \n",
       "0                5.912825            8.627500             NaN  \n",
       "1                4.067445           30.573077             NaN  \n",
       "2                1.109717           27.987857             NaN  \n",
       "3                4.601430           23.382000             NaN  \n",
       "4               10.465355           19.840000        0.005206  \n",
       "\n",
       "[5 rows x 23 columns]"
      ]
     },
     "execution_count": 112,
     "metadata": {},
     "output_type": "execute_result"
    }
   ],
   "source": [
    "data = pd.read_csv('data/processed/legatus_mixed.csv')\n",
    "data = data.drop(['Unnamed: 0'],axis =1)\n",
    "data.head()"
   ]
  },
  {
   "cell_type": "code",
   "execution_count": 113,
   "id": "24151cbb",
   "metadata": {},
   "outputs": [],
   "source": [
    "def get_cat_prosperity(row):\n",
    "    if row <= 40:\n",
    "        return 0\n",
    "    elif row > 40 and row <= 50:\n",
    "        return 1\n",
    "    elif row > 50 and row <= 70:\n",
    "        return 2\n",
    "    else:\n",
    "        return 3"
   ]
  },
  {
   "cell_type": "code",
   "execution_count": 114,
   "id": "7edbaae9",
   "metadata": {},
   "outputs": [],
   "source": [
    "from sklearn.model_selection import train_test_split\n",
    "from sklearn import preprocessing\n",
    "from sklearn import utils\n",
    "\n",
    "#data.drop('Area Group', axis=1, inplace=True)\n",
    "#data.drop('Year', axis=1, inplace=True)\n",
    "data.drop('Country', axis=1, inplace=True)\n",
    "data.drop('Country Name', axis=1, inplace=True)\n",
    "data.drop('Country Code', axis=1, inplace=True)\n",
    "data['Prosperity'] = data['Score'].apply(get_cat_prosperity)\n",
    "data.drop('Score', inplace=True, axis=1)\n",
    "\n",
    "data.dropna(inplace=True)\n",
    "\n",
    "X = data.drop('Prosperity', axis=1)\n",
    "y = data['Prosperity']\n",
    "\n",
    "lab_enc = preprocessing.LabelEncoder()\n",
    "y = lab_enc.fit_transform(y)\n",
    "\n",
    "X_train, X_test, y_train, y_test = train_test_split(X, y, test_size=0.33)"
   ]
  },
  {
   "cell_type": "code",
   "execution_count": 115,
   "id": "c6be356c",
   "metadata": {},
   "outputs": [
    {
     "data": {
      "text/plain": [
       "RandomForestClassifier(max_depth=3, min_samples_leaf=10, min_samples_split=5,\n",
       "                       n_estimators=10)"
      ]
     },
     "execution_count": 115,
     "metadata": {},
     "output_type": "execute_result"
    }
   ],
   "source": [
    "from sklearn.ensemble import RandomForestClassifier\n",
    "from sklearn.model_selection import GridSearchCV\n",
    "from sklearn.model_selection import KFold\n",
    "\n",
    "cv_kfold = KFold(n_splits=5)\n",
    "\n",
    "# parameter combinations that will be tested for a Random Forest model\n",
    "param_grid = {\n",
    "    'n_estimators': [5, 10, 25, 50, 100, 200],\n",
    "    'min_samples_leaf': [2, 5, 10],\n",
    "    'min_samples_split': [2, 5, 10],\n",
    "    'max_depth': [3, 5, 10, 20]\n",
    "}\n",
    "\n",
    "model = RandomForestClassifier()\n",
    "\n",
    "grid_cv = GridSearchCV(model, param_grid, scoring='accuracy', cv=cv_kfold)\n",
    "grid_cv.fit(X_train, y_train)\n",
    "grid_cv.best_estimator_"
   ]
  },
  {
   "cell_type": "code",
   "execution_count": 116,
   "id": "d4af3075",
   "metadata": {},
   "outputs": [
    {
     "name": "stdout",
     "output_type": "stream",
     "text": [
      "0.96\n",
      "{'max_depth': 3, 'min_samples_leaf': 10, 'min_samples_split': 5, 'n_estimators': 10}\n"
     ]
    }
   ],
   "source": [
    "print(grid_cv.best_score_)\n",
    "print(grid_cv.best_params_)"
   ]
  },
  {
   "cell_type": "code",
   "execution_count": 117,
   "id": "9d1d1018",
   "metadata": {},
   "outputs": [
    {
     "name": "stdout",
     "output_type": "stream",
     "text": [
      "Accuracy on the training data: 0.9411764705882353\n",
      "Accuracy on the testing data: 0.9615384615384616\n"
     ]
    }
   ],
   "source": [
    "from sklearn.metrics import accuracy_score\n",
    "\n",
    "model = RandomForestClassifier(max_depth=3, min_samples_leaf=10, min_samples_split=5, n_estimators=10)\n",
    "model.fit(X_train, y_train)\n",
    "\n",
    "prediction = model.predict(X_test)\n",
    "print('Accuracy on the training data: {}'.format(accuracy_score(model.predict(X_train), y_train)))\n",
    "print('Accuracy on the testing data: {}'.format(accuracy_score(prediction, y_test)))"
   ]
  },
  {
   "cell_type": "code",
   "execution_count": 118,
   "id": "c9607bb0",
   "metadata": {},
   "outputs": [
    {
     "name": "stderr",
     "output_type": "stream",
     "text": [
      "C:\\Users\\markt\\anaconda3\\lib\\site-packages\\seaborn\\categorical.py:3704: UserWarning: The `factorplot` function has been renamed to `catplot`. The original name will be removed in a future release. Please update your code. Note that the default `kind` in `factorplot` (`'point'`) has changed `'strip'` in `catplot`.\n",
      "  warnings.warn(msg)\n",
      "C:\\Users\\markt\\anaconda3\\lib\\site-packages\\seaborn\\categorical.py:3710: UserWarning: The `size` parameter has been renamed to `height`; please update your code.\n",
      "  warnings.warn(msg, UserWarning)\n",
      "C:\\Users\\markt\\anaconda3\\lib\\site-packages\\seaborn\\_decorators.py:36: FutureWarning: Pass the following variables as keyword args: x, y. From version 0.12, the only valid positional argument will be `data`, and passing other arguments without an explicit keyword will result in an error or misinterpretation.\n",
      "  warnings.warn(\n"
     ]
    },
    {
     "data": {
      "text/plain": [
       "<seaborn.axisgrid.FacetGrid at 0x1ad11b44f10>"
      ]
     },
     "execution_count": 118,
     "metadata": {},
     "output_type": "execute_result"
    },
    {
     "data": {
      "image/png": "[encoded data removed]",
      "text/plain": [
       "<Figure size 432x432 with 1 Axes>"
      ]
     },
     "metadata": {
      "needs_background": "light"
     },
     "output_type": "display_data"
    }
   ],
   "source": [
    "feature_values = pd.DataFrame({\n",
    "    'Feature': X_train.columns,\n",
    "    'Importance': model.feature_importances_\n",
    "})\n",
    "feature_values = feature_values.sort_values('Importance', ascending=False)\n",
    "\n",
    "sns.factorplot('Importance', 'Feature', data=feature_values, size=6)"
   ]
  },
  {
   "cell_type": "code",
   "execution_count": null,
   "id": "75ba2dc8",
   "metadata": {},
   "outputs": [],
   "source": []
  }
 ],
 "metadata": {
  "kernelspec": {
   "display_name": "Python 3",
   "language": "python",
   "name": "python3"
  },
  "language_info": {
   "codemirror_mode": {
    "name": "ipython",
    "version": 3
   },
   "file_extension": ".py",
   "mimetype": "text/x-python",
   "name": "python",
   "nbconvert_exporter": "python",
   "pygments_lexer": "ipython3",
   "version": "3.8.3"
  }
 },
 "nbformat": 4,
 "nbformat_minor": 5
}
